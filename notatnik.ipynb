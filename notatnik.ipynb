{
 "cells": [
  {
   "cell_type": "code",
   "execution_count": 2,
   "metadata": {},
   "outputs": [
    {
     "data": {
      "text/plain": [
       "'admin'"
      ]
     },
     "execution_count": 2,
     "metadata": {},
     "output_type": "execute_result"
    }
   ],
   "source": [
    "import os\n",
    "\n",
    "env_var = os.environ\n",
    "\n",
    "ADMIN_USERNAME = os.environ.get(\"ADMIN_USERNAME\", \"admin\")\n",
    "ADMIN_USERNAME"
   ]
  }
 ],
 "metadata": {
  "kernelspec": {
   "display_name": "venv",
   "language": "python",
   "name": "python3"
  },
  "language_info": {
   "codemirror_mode": {
    "name": "ipython",
    "version": 3
   },
   "file_extension": ".py",
   "mimetype": "text/x-python",
   "name": "python",
   "nbconvert_exporter": "python",
   "pygments_lexer": "ipython3",
   "version": "3.10.6"
  },
  "orig_nbformat": 4,
  "vscode": {
   "interpreter": {
    "hash": "a29414f7ad1e4209d65833c13ac7ac8d0e5daf08d47af0246cccd3fd46b1089f"
   }
  }
 },
 "nbformat": 4,
 "nbformat_minor": 2
}
